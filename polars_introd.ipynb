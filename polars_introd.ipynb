{
 "cells": [
  {
   "cell_type": "markdown",
   "metadata": {},
   "source": [
    "# Polars Introduction"
   ]
  },
  {
   "cell_type": "markdown",
   "metadata": {},
   "source": [
    "Polars é uma biblioteca de manipulação de dataframes com sintexe semelhante ao Pandas, porém, utiliza processamento paralelo, com isso, se tornando superior em velocidade de processamento. "
   ]
  },
  {
   "cell_type": "markdown",
   "metadata": {},
   "source": [
    "## Instalação"
   ]
  },
  {
   "cell_type": "code",
   "execution_count": null,
   "metadata": {},
   "outputs": [],
   "source": [
    "!pip install polars"
   ]
  },
  {
   "cell_type": "code",
   "execution_count": 5,
   "metadata": {},
   "outputs": [
    {
     "name": "stdout",
     "output_type": "stream",
     "text": [
      "Name: polars\n",
      "Version: 1.22.0\n",
      "Summary: Blazingly fast DataFrame library\n",
      "Home-page: https://www.pola.rs/\n",
      "Author: \n",
      "Author-email: Ritchie Vink <ritchie46@gmail.com>\n",
      "License: \n",
      "Location: c:\\users\\user\\appdata\\local\\programs\\python\\python39\\lib\\site-packages\n",
      "Requires: \n",
      "Required-by: \n"
     ]
    }
   ],
   "source": [
    "!pip show polars"
   ]
  },
  {
   "cell_type": "markdown",
   "metadata": {},
   "source": [
    "### Pacotes usados nesse projeto"
   ]
  },
  {
   "cell_type": "code",
   "execution_count": null,
   "metadata": {},
   "outputs": [],
   "source": [
    "import numpy as np\n",
    "import pandas as pd\n",
    "import polars as pl\n",
    "import matplotlib.pyplot as plt\n",
    "import seaborn as sns\n",
    "import datetime as dt\n",
    "import os \n",
    "import gc # Para limpar o cache nos benchmark de velocidade (Pandas vs Polars)\n",
    "%matplotlib inline\n",
    "from IPython.display import display"
   ]
  },
  {
   "cell_type": "markdown",
   "metadata": {},
   "source": [
    "## 1. Documentação - Primeiros passos"
   ]
  },
  {
   "cell_type": "markdown",
   "metadata": {},
   "source": [
    "Note: Sintaxe parecida com Pandas, basta traduzir.    ($Pandas \\to Polars$)"
   ]
  },
  {
   "cell_type": "code",
   "execution_count": 2,
   "metadata": {},
   "outputs": [
    {
     "name": "stdout",
     "output_type": "stream",
     "text": [
      "shape: (4, 4)\n",
      "┌────────┬────────────┬───────┬────────┐\n",
      "│ name   ┆ niver      ┆ peso  ┆ altura │\n",
      "│ ---    ┆ ---        ┆ ---   ┆ ---    │\n",
      "│ str    ┆ date       ┆ f64   ┆ f64    │\n",
      "╞════════╪════════════╪═══════╪════════╡\n",
      "│ Gean   ┆ 2004-02-24 ┆ 100.0 ┆ 1.8    │\n",
      "│ Victor ┆ 1980-03-07 ┆ 40.4  ┆ 1.9    │\n",
      "│ Marcos ┆ 2003-01-01 ┆ 60.8  ┆ 1.79   │\n",
      "│ Marco  ┆ 1990-01-23 ┆ 100.9 ┆ 1.85   │\n",
      "└────────┴────────────┴───────┴────────┘\n"
     ]
    }
   ],
   "source": [
    "df = pl.DataFrame(\n",
    "    {\n",
    "        \"name\": [\"Gean\", \"Victor\", \"Marcos\", \"Marco\"], \n",
    "        \"niver\": [\n",
    "            dt.date(2004, 2, 24), \n",
    "            dt.date(1980, 3, 7), \n",
    "            dt.date(2003, 1, 1), \n",
    "            dt.date(1990, 1, 23),\n",
    "        ], \n",
    "        \"peso\": [100.0, 40.4, 60.8, 100.9], # (kg)\n",
    "        \"altura\": [1.80, 1.90, 1.79, 1.85], #(m)\n",
    "    }\n",
    ")\n",
    "\n",
    "print(df)"
   ]
  },
  {
   "cell_type": "code",
   "execution_count": 3,
   "metadata": {},
   "outputs": [],
   "source": [
    "df.write_csv(\"output.csv\")"
   ]
  },
  {
   "cell_type": "code",
   "execution_count": 4,
   "metadata": {},
   "outputs": [
    {
     "name": "stdout",
     "output_type": "stream",
     "text": [
      "shape: (4, 4)\n",
      "┌────────┬────────────┬───────┬────────┐\n",
      "│ name   ┆ niver      ┆ peso  ┆ altura │\n",
      "│ ---    ┆ ---        ┆ ---   ┆ ---    │\n",
      "│ str    ┆ date       ┆ f64   ┆ f64    │\n",
      "╞════════╪════════════╪═══════╪════════╡\n",
      "│ Gean   ┆ 2004-02-24 ┆ 100.0 ┆ 1.8    │\n",
      "│ Victor ┆ 1980-03-07 ┆ 40.4  ┆ 1.9    │\n",
      "│ Marcos ┆ 2003-01-01 ┆ 60.8  ┆ 1.79   │\n",
      "│ Marco  ┆ 1990-01-23 ┆ 100.9 ┆ 1.85   │\n",
      "└────────┴────────────┴───────┴────────┘\n"
     ]
    }
   ],
   "source": [
    "df_csv = pl.read_csv(\"output.csv\", try_parse_dates=True)\n",
    "print(df_csv)"
   ]
  },
  {
   "cell_type": "code",
   "execution_count": 6,
   "metadata": {},
   "outputs": [
    {
     "data": {
      "text/html": [
       "[(col(\"altura\")) / (col(\"peso\").pow([dyn int: 2]))]"
      ],
      "text/plain": [
       "<Expr ['[(col(\"altura\")) / (col(\"peso\"…'] at 0x19F2A2E5F10>"
      ]
     },
     "execution_count": 6,
     "metadata": {},
     "output_type": "execute_result"
    }
   ],
   "source": [
    "pl.col(\"altura\") / (pl.col(\"peso\") ** 2) # exemplo de expressão"
   ]
  },
  {
   "cell_type": "markdown",
   "metadata": {},
   "source": [
    "#### Select"
   ]
  },
  {
   "cell_type": "code",
   "execution_count": 7,
   "metadata": {},
   "outputs": [
    {
     "name": "stdout",
     "output_type": "stream",
     "text": [
      "shape: (4, 3)\n",
      "┌────────┬──────────────┬──────────┐\n",
      "│ name   ┆ dia_do_niver ┆ BMI      │\n",
      "│ ---    ┆ ---          ┆ ---      │\n",
      "│ str    ┆ i32          ┆ f64      │\n",
      "╞════════╪══════════════╪══════════╡\n",
      "│ Gean   ┆ 2004         ┆ 0.00018  │\n",
      "│ Victor ┆ 1980         ┆ 0.001164 │\n",
      "│ Marcos ┆ 2003         ┆ 0.000484 │\n",
      "│ Marco  ┆ 1990         ┆ 0.000182 │\n",
      "└────────┴──────────────┴──────────┘\n"
     ]
    }
   ],
   "source": [
    "result = df.select(\n",
    "    pl.col(\"name\"), \n",
    "    pl.col(\"niver\").dt.year().alias(\"dia_do_niver\"), \n",
    "    (pl.col(\"altura\") / (pl.col(\"peso\") ** 2)).alias(\"BMI\"),\n",
    ")\n",
    "\n",
    "print(result)"
   ]
  },
  {
   "cell_type": "code",
   "execution_count": 9,
   "metadata": {},
   "outputs": [
    {
     "name": "stdout",
     "output_type": "stream",
     "text": [
      "shape: (4, 3)\n",
      "┌────────┬───────────┬─────────┐\n",
      "│ name   ┆ altura-5% ┆ peso-5% │\n",
      "│ ---    ┆ ---       ┆ ---     │\n",
      "│ str    ┆ f64       ┆ f64     │\n",
      "╞════════╪═══════════╪═════════╡\n",
      "│ Gean   ┆ 1.71      ┆ 95.0    │\n",
      "│ Victor ┆ 1.81      ┆ 38.38   │\n",
      "│ Marcos ┆ 1.7       ┆ 57.76   │\n",
      "│ Marco  ┆ 1.76      ┆ 95.86   │\n",
      "└────────┴───────────┴─────────┘\n"
     ]
    }
   ],
   "source": [
    "# Using name suffix\n",
    "\n",
    "result = df.select(\n",
    "    pl.col(\"name\"), \n",
    "    (pl.col(\"altura\", \"peso\") * 0.95).round(2).name.suffix(\"-5%\"),\n",
    ")\n",
    "\n",
    "print(result)"
   ]
  },
  {
   "cell_type": "markdown",
   "metadata": {},
   "source": [
    "#### with_columns"
   ]
  },
  {
   "cell_type": "code",
   "execution_count": 10,
   "metadata": {},
   "outputs": [
    {
     "name": "stdout",
     "output_type": "stream",
     "text": [
      "shape: (4, 6)\n",
      "┌────────┬────────────┬───────┬────────┬───────────┬──────────┐\n",
      "│ name   ┆ niver      ┆ peso  ┆ altura ┆ ano_niver ┆ BMI      │\n",
      "│ ---    ┆ ---        ┆ ---   ┆ ---    ┆ ---       ┆ ---      │\n",
      "│ str    ┆ date       ┆ f64   ┆ f64    ┆ i32       ┆ f64      │\n",
      "╞════════╪════════════╪═══════╪════════╪═══════════╪══════════╡\n",
      "│ Gean   ┆ 2004-02-24 ┆ 100.0 ┆ 1.8    ┆ 2004      ┆ 0.00018  │\n",
      "│ Victor ┆ 1980-03-07 ┆ 40.4  ┆ 1.9    ┆ 1980      ┆ 0.001164 │\n",
      "│ Marcos ┆ 2003-01-01 ┆ 60.8  ┆ 1.79   ┆ 2003      ┆ 0.000484 │\n",
      "│ Marco  ┆ 1990-01-23 ┆ 100.9 ┆ 1.85   ┆ 1990      ┆ 0.000182 │\n",
      "└────────┴────────────┴───────┴────────┴───────────┴──────────┘\n"
     ]
    }
   ],
   "source": [
    "result = df.with_columns(\n",
    "    ano_niver=pl.col(\"niver\").dt.year(), \n",
    "    BMI=pl.col(\"altura\") / (pl.col(\"peso\") ** 2)\n",
    ")\n",
    "\n",
    "print(result)"
   ]
  },
  {
   "cell_type": "markdown",
   "metadata": {},
   "source": [
    "##### Filter"
   ]
  },
  {
   "cell_type": "code",
   "execution_count": 12,
   "metadata": {},
   "outputs": [
    {
     "name": "stdout",
     "output_type": "stream",
     "text": [
      "shape: (2, 4)\n",
      "┌────────┬────────────┬───────┬────────┐\n",
      "│ name   ┆ niver      ┆ peso  ┆ altura │\n",
      "│ ---    ┆ ---        ┆ ---   ┆ ---    │\n",
      "│ str    ┆ date       ┆ f64   ┆ f64    │\n",
      "╞════════╪════════════╪═══════╪════════╡\n",
      "│ Gean   ┆ 2004-02-24 ┆ 100.0 ┆ 1.8    │\n",
      "│ Marcos ┆ 2003-01-01 ┆ 60.8  ┆ 1.79   │\n",
      "└────────┴────────────┴───────┴────────┘\n"
     ]
    }
   ],
   "source": [
    "result = df.filter(pl.col(\"niver\").dt.year() > 2000)\n",
    "print(result)"
   ]
  },
  {
   "cell_type": "code",
   "execution_count": 13,
   "metadata": {},
   "outputs": [
    {
     "name": "stdout",
     "output_type": "stream",
     "text": [
      "shape: (3, 4)\n",
      "┌────────┬────────────┬───────┬────────┐\n",
      "│ name   ┆ niver      ┆ peso  ┆ altura │\n",
      "│ ---    ┆ ---        ┆ ---   ┆ ---    │\n",
      "│ str    ┆ date       ┆ f64   ┆ f64    │\n",
      "╞════════╪════════════╪═══════╪════════╡\n",
      "│ Gean   ┆ 2004-02-24 ┆ 100.0 ┆ 1.8    │\n",
      "│ Marcos ┆ 2003-01-01 ┆ 60.8  ┆ 1.79   │\n",
      "│ Marco  ┆ 1990-01-23 ┆ 100.9 ┆ 1.85   │\n",
      "└────────┴────────────┴───────┴────────┘\n"
     ]
    }
   ],
   "source": [
    "result = df.filter(\n",
    "    pl.col(\"niver\").is_between(dt.date(1990, 1, 1), dt.date(2010, 1, 1)), \n",
    "    pl.col(\"altura\") > 1.7,  \n",
    ")\n",
    "\n",
    "print(result)"
   ]
  },
  {
   "cell_type": "markdown",
   "metadata": {},
   "source": [
    "Group By"
   ]
  },
  {
   "cell_type": "code",
   "execution_count": 28,
   "metadata": {},
   "outputs": [
    {
     "name": "stdout",
     "output_type": "stream",
     "text": [
      "<polars.dataframe.group_by.GroupBy object at 0x0000019F2C8DDAC0>\n"
     ]
    }
   ],
   "source": [
    "result = df.group_by(\n",
    "    (pl.col(\"niver\").dt.year() // 10 * 10).alias(\"decade\"),\n",
    "    maintain_order=True, # Seguir a ordem original do dataframe\n",
    ").len()\n",
    "print(result)"
   ]
  },
  {
   "cell_type": "code",
   "execution_count": 29,
   "metadata": {},
   "outputs": [
    {
     "name": "stdout",
     "output_type": "stream",
     "text": [
      "shape: (3, 4)\n",
      "┌────────┬─────────────┬───────────────┬─────────┐\n",
      "│ decade ┆ sample_size ┆ Média de peso ┆ tallest │\n",
      "│ ---    ┆ ---         ┆ ---           ┆ ---     │\n",
      "│ i32    ┆ u32         ┆ f64           ┆ f64     │\n",
      "╞════════╪═════════════╪═══════════════╪═════════╡\n",
      "│ 2000   ┆ 2           ┆ 80.4          ┆ 1.8     │\n",
      "│ 1980   ┆ 1           ┆ 40.4          ┆ 1.9     │\n",
      "│ 1990   ┆ 1           ┆ 100.9         ┆ 1.85    │\n",
      "└────────┴─────────────┴───────────────┴─────────┘\n"
     ]
    }
   ],
   "source": [
    "result = df.group_by(\n",
    "    (pl.col(\"niver\").dt.year() // 10 * 10).alias(\"decade\"), \n",
    "    maintain_order=True,\n",
    ").agg(\n",
    "    pl.len().alias(\"sample_size\"),\n",
    "    pl.col(\"peso\").mean().round(2).alias(\"Média de peso\"), \n",
    "    pl.col(\"altura\").max().alias(\"tallest\"),\n",
    ")\n",
    "\n",
    "print(result)"
   ]
  },
  {
   "cell_type": "markdown",
   "metadata": {},
   "source": [
    "## 2. Testando Polars com Dataframe com mais de 13M de linhas"
   ]
  },
  {
   "cell_type": "markdown",
   "metadata": {},
   "source": [
    "#### Pacote do Kaggle para baixar os Dataframes\n",
    "\n",
    "Caso queira baixar manualmente o database, [clique aqui](https://www.kaggle.com/datasets/chumajin/heterogeneity-human-activity-recognition-dataset) para acessar o Kaggle. "
   ]
  },
  {
   "cell_type": "code",
   "execution_count": null,
   "metadata": {},
   "outputs": [],
   "source": [
    "!pip install kagglehub"
   ]
  },
  {
   "cell_type": "markdown",
   "metadata": {},
   "source": [
    "#### Realiza o Download do Dataframe em um path especificado"
   ]
  },
  {
   "cell_type": "code",
   "execution_count": null,
   "metadata": {},
   "outputs": [],
   "source": [
    "import kagglehub\n",
    "\n",
    "# Download latest version\n",
    "path = kagglehub.dataset_download(\"chumajin/heterogeneity-human-activity-recognition-dataset\")\n",
    "\n",
    "print(\"Path to dataset files:\", path)"
   ]
  },
  {
   "cell_type": "markdown",
   "metadata": {},
   "source": [
    "| Mode  | LastWriteTime       | Length      | Name                           |\n",
    "|-------|---------------------|------------|--------------------------------|\n",
    "| -a---- | 10/02/2025 11:11  | 6081012196 | edit_Phones_accelerometer.csv |\n",
    "| -a---- | 10/02/2025 11:10  | 1291856600 | Phones_accelerometer.csv      |\n",
    "| -a---- | 10/02/2025 11:10  | 1379220147 | Phones_gyroscope.csv          |\n",
    "| -a---- | 10/02/2025 11:10  | 327168116  | Watch_accelerometer.csv       |\n",
    "| -a---- | 10/02/2025 11:10  | 308345360  | Watch_gyroscope.csv           |\n"
   ]
  },
  {
   "cell_type": "markdown",
   "metadata": {},
   "source": [
    "#### Database "
   ]
  },
  {
   "cell_type": "code",
   "execution_count": 18,
   "metadata": {},
   "outputs": [],
   "source": [
    "df = pl.read_csv(\"C:/Users/User/.cache/kagglehub/datasets/chumajin/heterogeneity-human-activity-recognition-dataset/versions/2/Phones_accelerometer.csv\")"
   ]
  },
  {
   "cell_type": "markdown",
   "metadata": {},
   "source": [
    "#### Comparação de tempo - Pandas VS Polars"
   ]
  },
  {
   "cell_type": "markdown",
   "metadata": {},
   "source": [
    "📊 Análise dos tempos - Carregando os dados\n",
    "\n",
    "    Pandas:\n",
    "        CPU time: 11 s\n",
    "        Wall time: 14 s\n",
    "\n",
    "    Polars:\n",
    "        CPU time: 8.36 s\n",
    "        Wall time: 1.45 s ⏩ 10x mais rápido que Pandas!"
   ]
  },
  {
   "cell_type": "code",
   "execution_count": 43,
   "metadata": {},
   "outputs": [
    {
     "name": "stdout",
     "output_type": "stream",
     "text": [
      "CPU times: total: 11 s\n",
      "Wall time: 14 s\n"
     ]
    }
   ],
   "source": [
    "%%time\n",
    "df = pd.read_csv(\"C:/Users/User/.cache/kagglehub/datasets/chumajin/heterogeneity-human-activity-recognition-dataset/versions/2/Phones_accelerometer.csv\",low_memory=False)"
   ]
  },
  {
   "cell_type": "code",
   "execution_count": 19,
   "metadata": {},
   "outputs": [
    {
     "name": "stdout",
     "output_type": "stream",
     "text": [
      "CPU times: total: 8.36 s\n",
      "Wall time: 1.45 s\n"
     ]
    }
   ],
   "source": [
    "%%time\n",
    "df = pl.read_csv(\"C:/Users/User/.cache/kagglehub/datasets/chumajin/heterogeneity-human-activity-recognition-dataset/versions/2/Phones_accelerometer.csv\",low_memory=False)"
   ]
  },
  {
   "cell_type": "code",
   "execution_count": 21,
   "metadata": {},
   "outputs": [
    {
     "data": {
      "text/plain": [
       "(13062475, 10)"
      ]
     },
     "execution_count": 21,
     "metadata": {},
     "output_type": "execute_result"
    }
   ],
   "source": [
    "df.shape"
   ]
  },
  {
   "cell_type": "code",
   "execution_count": 61,
   "metadata": {},
   "outputs": [
    {
     "data": {
      "text/html": [
       "<div><style>\n",
       ".dataframe > thead > tr,\n",
       ".dataframe > tbody > tr {\n",
       "  text-align: right;\n",
       "  white-space: pre-wrap;\n",
       "}\n",
       "</style>\n",
       "<small>shape: (3, 10)</small><table border=\"1\" class=\"dataframe\"><thead><tr><th>sample_id</th><th>Arrival_Time</th><th>Creation_Time</th><th>x</th><th>y</th><th>z</th><th>User</th><th>Model</th><th>Device</th><th>gt</th></tr><tr><td>i64</td><td>i64</td><td>i64</td><td>f64</td><td>f64</td><td>f64</td><td>str</td><td>str</td><td>str</td><td>str</td></tr></thead><tbody><tr><td>0</td><td>1424696633908</td><td>1424696631913248572</td><td>-5.958191</td><td>0.6880646</td><td>8.135345</td><td>&quot;a&quot;</td><td>&quot;nexus4&quot;</td><td>&quot;nexus4_1&quot;</td><td>&quot;stand&quot;</td></tr><tr><td>1</td><td>1424696633909</td><td>1424696631918283972</td><td>-5.95224</td><td>0.6702118</td><td>8.136536</td><td>&quot;a&quot;</td><td>&quot;nexus4&quot;</td><td>&quot;nexus4_1&quot;</td><td>&quot;stand&quot;</td></tr><tr><td>2</td><td>1424696633918</td><td>1424696631923288855</td><td>-5.995087</td><td>0.653549</td><td>8.204376</td><td>&quot;a&quot;</td><td>&quot;nexus4&quot;</td><td>&quot;nexus4_1&quot;</td><td>&quot;stand&quot;</td></tr></tbody></table></div>"
      ],
      "text/plain": [
       "shape: (3, 10)\n",
       "┌───────────┬───────────────┬───────────────────┬───────────┬───┬──────┬────────┬──────────┬───────┐\n",
       "│ sample_id ┆ Arrival_Time  ┆ Creation_Time     ┆ x         ┆ … ┆ User ┆ Model  ┆ Device   ┆ gt    │\n",
       "│ ---       ┆ ---           ┆ ---               ┆ ---       ┆   ┆ ---  ┆ ---    ┆ ---      ┆ ---   │\n",
       "│ i64       ┆ i64           ┆ i64               ┆ f64       ┆   ┆ str  ┆ str    ┆ str      ┆ str   │\n",
       "╞═══════════╪═══════════════╪═══════════════════╪═══════════╪═══╪══════╪════════╪══════════╪═══════╡\n",
       "│ 0         ┆ 1424696633908 ┆ 14246966319132485 ┆ -5.958191 ┆ … ┆ a    ┆ nexus4 ┆ nexus4_1 ┆ stand │\n",
       "│           ┆               ┆ 72                ┆           ┆   ┆      ┆        ┆          ┆       │\n",
       "│ 1         ┆ 1424696633909 ┆ 14246966319182839 ┆ -5.95224  ┆ … ┆ a    ┆ nexus4 ┆ nexus4_1 ┆ stand │\n",
       "│           ┆               ┆ 72                ┆           ┆   ┆      ┆        ┆          ┆       │\n",
       "│ 2         ┆ 1424696633918 ┆ 14246966319232888 ┆ -5.995087 ┆ … ┆ a    ┆ nexus4 ┆ nexus4_1 ┆ stand │\n",
       "│           ┆               ┆ 55                ┆           ┆   ┆      ┆        ┆          ┆       │\n",
       "└───────────┴───────────────┴───────────────────┴───────────┴───┴──────┴────────┴──────────┴───────┘"
      ]
     },
     "execution_count": 61,
     "metadata": {},
     "output_type": "execute_result"
    }
   ],
   "source": [
    "df.head(3)"
   ]
  },
  {
   "cell_type": "markdown",
   "metadata": {},
   "source": [
    "## 3. Dados de jogos do Corinthians na Neo Química Arena (2014 - 2023)"
   ]
  },
  {
   "cell_type": "markdown",
   "metadata": {},
   "source": [
    "#### Database"
   ]
  },
  {
   "cell_type": "code",
   "execution_count": 25,
   "metadata": {},
   "outputs": [],
   "source": [
    "df = pl.read_csv(\"databases/sccpdb/A - Jogos.csv\")"
   ]
  },
  {
   "cell_type": "markdown",
   "metadata": {},
   "source": [
    "#### EDA"
   ]
  },
  {
   "cell_type": "code",
   "execution_count": 26,
   "metadata": {},
   "outputs": [
    {
     "data": {
      "text/plain": [
       "Schema([('JOGO', Int64),\n",
       "        ('RESULTADO', String),\n",
       "        ('CORINTHIANS', String),\n",
       "        ('GOL COR', Int64),\n",
       "        ('GOL VIS', Int64),\n",
       "        ('VISITANTE', String),\n",
       "        ('CIDADE - VISITANTE', String),\n",
       "        ('UF', String),\n",
       "        ('PAIS', String),\n",
       "        ('DIA', Int64),\n",
       "        ('MES', Int64),\n",
       "        ('ANO', Int64),\n",
       "        ('HORA', String),\n",
       "        ('DIA-SEMANA', String),\n",
       "        ('CAMPEONATO', String),\n",
       "        ('CAPITÃO', String),\n",
       "        ('TÉCNICO', String),\n",
       "        ('TÉCNICO - VISITANTE', String),\n",
       "        ('PUBLICO', Float64),\n",
       "        ('RENDA', String),\n",
       "        ('CAMISA', Int64),\n",
       "        ('SAÍDA DE JOGO', String),\n",
       "        ('1 TEMPO', String),\n",
       "        ('2 TEMPO', String),\n",
       "        ('ARTILHEIROS', String),\n",
       "        ('ARTILHEIROS - VISITANTE', String),\n",
       "        ('NUM-GOLS', Int64),\n",
       "        ('PRIMEIRO GOL', String),\n",
       "        ('GOL-SUL', Int64),\n",
       "        ('GOL-NORTE', Int64),\n",
       "        ('GOL VIS-SUL', Int64),\n",
       "        ('GOL VIS-NORTE', Int64),\n",
       "        ('GOL-1T', Int64),\n",
       "        ('GOL-2T', Int64),\n",
       "        ('GOL VIS-1T', Int64),\n",
       "        ('GOL VIS-2T', Int64),\n",
       "        ('ÁRBITRO', String),\n",
       "        ('UF-ÁRBITRO', String),\n",
       "        ('VAR', String)])"
      ]
     },
     "execution_count": 26,
     "metadata": {},
     "output_type": "execute_result"
    }
   ],
   "source": [
    "df.schema"
   ]
  },
  {
   "cell_type": "code",
   "execution_count": 27,
   "metadata": {},
   "outputs": [
    {
     "data": {
      "text/plain": [
       "(321, 39)"
      ]
     },
     "execution_count": 27,
     "metadata": {},
     "output_type": "execute_result"
    }
   ],
   "source": [
    "df.shape"
   ]
  },
  {
   "cell_type": "code",
   "execution_count": 83,
   "metadata": {},
   "outputs": [
    {
     "data": {
      "text/html": [
       "<div><style>\n",
       ".dataframe > thead > tr,\n",
       ".dataframe > tbody > tr {\n",
       "  text-align: right;\n",
       "  white-space: pre-wrap;\n",
       "}\n",
       "</style>\n",
       "<small>shape: (1, 39)</small><table border=\"1\" class=\"dataframe\"><thead><tr><th>JOGO</th><th>RESULTADO</th><th>CORINTHIANS</th><th>GOL COR</th><th>GOL VIS</th><th>VISITANTE</th><th>CIDADE - VISITANTE</th><th>UF</th><th>PAIS</th><th>DIA</th><th>MES</th><th>ANO</th><th>HORA</th><th>DIA-SEMANA</th><th>CAMPEONATO</th><th>CAPITÃO</th><th>TÉCNICO</th><th>TÉCNICO - VISITANTE</th><th>PUBLICO</th><th>RENDA</th><th>CAMISA</th><th>SAÍDA DE JOGO</th><th>1 TEMPO</th><th>2 TEMPO</th><th>ARTILHEIROS</th><th>ARTILHEIROS - VISITANTE</th><th>NUM-GOLS</th><th>PRIMEIRO GOL</th><th>GOL-SUL</th><th>GOL-NORTE</th><th>GOL VIS-SUL</th><th>GOL VIS-NORTE</th><th>GOL-1T</th><th>GOL-2T</th><th>GOL VIS-1T</th><th>GOL VIS-2T</th><th>ÁRBITRO</th><th>UF-ÁRBITRO</th><th>VAR</th></tr><tr><td>f64</td><td>f64</td><td>f64</td><td>f64</td><td>f64</td><td>f64</td><td>f64</td><td>f64</td><td>f64</td><td>f64</td><td>f64</td><td>f64</td><td>f64</td><td>f64</td><td>f64</td><td>f64</td><td>f64</td><td>f64</td><td>f64</td><td>f64</td><td>f64</td><td>f64</td><td>f64</td><td>f64</td><td>f64</td><td>f64</td><td>f64</td><td>f64</td><td>f64</td><td>f64</td><td>f64</td><td>f64</td><td>f64</td><td>f64</td><td>f64</td><td>f64</td><td>f64</td><td>f64</td><td>f64</td></tr></thead><tbody><tr><td>0.0</td><td>0.0</td><td>0.0</td><td>0.0</td><td>0.0</td><td>0.0</td><td>0.0</td><td>0.0</td><td>0.0</td><td>0.0</td><td>0.0</td><td>0.0</td><td>0.0</td><td>0.0</td><td>0.0</td><td>0.0</td><td>0.0</td><td>0.0</td><td>0.0</td><td>0.0</td><td>0.0</td><td>0.0</td><td>0.0</td><td>0.0</td><td>0.0</td><td>0.0</td><td>0.0</td><td>0.0</td><td>0.0</td><td>0.0</td><td>0.0</td><td>0.0</td><td>0.0</td><td>0.0</td><td>0.0</td><td>0.0</td><td>0.0</td><td>0.0</td><td>0.0</td></tr></tbody></table></div>"
      ],
      "text/plain": [
       "shape: (1, 39)\n",
       "┌──────┬───────────┬─────────────┬─────────┬───┬────────────┬─────────┬────────────┬─────┐\n",
       "│ JOGO ┆ RESULTADO ┆ CORINTHIANS ┆ GOL COR ┆ … ┆ GOL VIS-2T ┆ ÁRBITRO ┆ UF-ÁRBITRO ┆ VAR │\n",
       "│ ---  ┆ ---       ┆ ---         ┆ ---     ┆   ┆ ---        ┆ ---     ┆ ---        ┆ --- │\n",
       "│ f64  ┆ f64       ┆ f64         ┆ f64     ┆   ┆ f64        ┆ f64     ┆ f64        ┆ f64 │\n",
       "╞══════╪═══════════╪═════════════╪═════════╪═══╪════════════╪═════════╪════════════╪═════╡\n",
       "│ 0.0  ┆ 0.0       ┆ 0.0         ┆ 0.0     ┆ … ┆ 0.0        ┆ 0.0     ┆ 0.0        ┆ 0.0 │\n",
       "└──────┴───────────┴─────────────┴─────────┴───┴────────────┴─────────┴────────────┴─────┘"
      ]
     },
     "execution_count": 83,
     "metadata": {},
     "output_type": "execute_result"
    }
   ],
   "source": [
    "df.null_count().sum()/df.shape[0]"
   ]
  },
  {
   "cell_type": "markdown",
   "metadata": {},
   "source": [
    "#### Análises rápidas"
   ]
  },
  {
   "cell_type": "markdown",
   "metadata": {},
   "source": [
    "- Contando quantidade de jogos em cada competição"
   ]
  },
  {
   "cell_type": "code",
   "execution_count": 8,
   "metadata": {},
   "outputs": [
    {
     "name": "stdout",
     "output_type": "stream",
     "text": [
      "shape: (6, 2)\n",
      "┌────────────────┬───────┐\n",
      "│ CAMPEONATO     ┆ count │\n",
      "│ ---            ┆ ---   │\n",
      "│ str            ┆ u32   │\n",
      "╞════════════════╪═══════╡\n",
      "│ COPA DO BRASIL ┆ 27    │\n",
      "│ BRASILEIRO     ┆ 178   │\n",
      "│ PAULISTA       ┆ 74    │\n",
      "│ SULAMERICANA   ┆ 15    │\n",
      "│ LIBERTADORES   ┆ 22    │\n",
      "│ AMISTOSO       ┆ 5     │\n",
      "└────────────────┴───────┘\n"
     ]
    }
   ],
   "source": [
    "count_compet = df['CAMPEONATO'].value_counts()\n",
    "print(count_compet)"
   ]
  },
  {
   "cell_type": "markdown",
   "metadata": {},
   "source": [
    "- Gráfico de barras com a quantidade de gols sofridos a cada ano. "
   ]
  },
  {
   "cell_type": "code",
   "execution_count": 28,
   "metadata": {},
   "outputs": [
    {
     "name": "stdout",
     "output_type": "stream",
     "text": [
      "Quantidade de gols sofrida por ano: \n",
      " \n",
      " shape: (10, 2)\n",
      "┌─────┬────────────────────────┐\n",
      "│ ANO ┆ Total de Gols Sofridos │\n",
      "│ --- ┆ ---                    │\n",
      "│ i64 ┆ i64                    │\n",
      "╞═════╪════════════════════════╡\n",
      "│ 23  ┆ 26                     │\n",
      "│ 22  ┆ 19                     │\n",
      "│ 14  ┆ 14                     │\n",
      "│ 17  ┆ 24                     │\n",
      "│ 20  ┆ 23                     │\n",
      "│ 18  ┆ 25                     │\n",
      "│ 15  ┆ 21                     │\n",
      "│ 16  ┆ 17                     │\n",
      "│ 21  ┆ 38                     │\n",
      "│ 19  ┆ 28                     │\n",
      "└─────┴────────────────────────┘\n",
      "\n",
      " Ano com mais gols sofridos: 2021\n",
      "\n",
      " Técnico com mais derrotas: FÁBIO CARILLE\n"
     ]
    }
   ],
   "source": [
    "quant_gols_ano = df.group_by(\"ANO\").agg(\n",
    "    pl.col(\"GOL VIS\").sum().alias(\"Total de Gols Sofridos\")\n",
    ")\n",
    "\n",
    "# Ano com mais gols sofridos\n",
    "ano_mais_gols = quant_gols_ano.sort(\"Total de Gols Sofridos\", descending=True).select(\"ANO\").row(0)[0]\n",
    "\n",
    "print(f\"Quantidade de gols sofrida por ano: \\n \\n {quant_gols_ano}\")\n",
    "print(f\"\\n Ano com mais gols sofridos: 20{ano_mais_gols}\")\n",
    "\n",
    "# Quem foi o técnico responsável ? \n",
    "tecnicos_ruins = df.filter(pl.col(\"RESULTADO\") == \"D\").group_by(\"TÉCNICO\").agg(\n",
    "    pl.len().alias(\"Total de derrotas por técnico\")\n",
    ")\n",
    "\n",
    "tecnico_mais_derrotas = (tecnicos_ruins.sort(\"Total de derrotas por técnico\", descending=True).select(\"TÉCNICO\").row(0)[0])\n",
    "\n",
    "print(f\"\\n Técnico com mais derrotas: {tecnico_mais_derrotas}\")"
   ]
  },
  {
   "cell_type": "code",
   "execution_count": 37,
   "metadata": {},
   "outputs": [
    {
     "data": {
      "image/png": "[encoded data removed]",
      "text/plain": [
       "<Figure size 640x480 with 1 Axes>"
      ]
     },
     "metadata": {},
     "output_type": "display_data"
    }
   ],
   "source": [
    "# No Polars \".index\" não existe, temos que tirar os índices do dataframe\n",
    "anos = quant_gols_ano['ANO'].to_list()\n",
    "gols = quant_gols_ano['Total de Gols Sofridos'].to_list()\n",
    "\n",
    "plt.bar(anos, gols, color='black')\n",
    "\n",
    "# Rótulos do gráfico\n",
    "plt.xlabel('ANOS')\n",
    "plt.ylabel('QUANTIDADE DE GOLS SOFRIDOS')\n",
    "plt.title('QUANTIDADE DE GOLS SOFRIDOS POR ANO')\n",
    "\n",
    "# Formatando grades do gráfico\n",
    "plt.grid(True, linestyle='-', alpha=0.7, color='purple')\n",
    "\n",
    "plt.show()"
   ]
  },
  {
   "cell_type": "markdown",
   "metadata": {},
   "source": [
    "- Qual time mais perdeu pelo Corinthians, nesse intervalo de tempo ? $: (14/05/2014 - 07/10/2023)$\n"
   ]
  },
  {
   "cell_type": "code",
   "execution_count": 47,
   "metadata": {},
   "outputs": [
    {
     "name": "stdout",
     "output_type": "stream",
     "text": [
      "Time com mais derrotas como visitante: SÃO PAULO\n"
     ]
    }
   ],
   "source": [
    "team_lost = (\n",
    "    df.filter(pl.col('RESULTADO') == 'V')  # Filtra derrotas\n",
    "    .group_by('VISITANTE')  # Agrupa por time visitante\n",
    "    .agg(pl.len().alias(\"total_derrotas\"))  # Conta quantas derrotas cada time teve\n",
    "    .sort(\"total_derrotas\", descending=True)  # Ordena do maior para o menor\n",
    "    .select(\"VISITANTE\")  # Pega apenas a coluna de time\n",
    "    .row(0)[0]  # Pega o primeiro time da lista (com mais derrotas)\n",
    ")\n",
    "\n",
    "\n",
    "print(f\"Time com mais derrotas como visitante: {team_lost}\")"
   ]
  },
  {
   "cell_type": "markdown",
   "metadata": {},
   "source": [
    "- Tabela de técnicos e o seu número de vitórias"
   ]
  },
  {
   "cell_type": "code",
   "execution_count": 67,
   "metadata": {},
   "outputs": [
    {
     "name": "stdout",
     "output_type": "stream",
     "text": [
      "shape: (17, 2)\n",
      "┌─────────────────────┬────────────────┐\n",
      "│ TÉCNICO             ┆ total_vitorias │\n",
      "│ ---                 ┆ ---            │\n",
      "│ str                 ┆ u32            │\n",
      "╞═════════════════════╪════════════════╡\n",
      "│ FÁBIO CARILLE       ┆ 48             │\n",
      "│ TITE                ┆ 41             │\n",
      "│ VÍTOR PEREIRA       ┆ 18             │\n",
      "│ MANO MENEZES        ┆ 12             │\n",
      "│ FERNANDO LÁZARO     ┆ 11             │\n",
      "│ …                   ┆ …              │\n",
      "│ DYEGO COELHO        ┆ 3              │\n",
      "│ OSWALDO DE OLIVEIRA ┆ 2              │\n",
      "│ FILIPE ALMEIDA      ┆ 1              │\n",
      "│ CUCA                ┆ 1              │\n",
      "│ EVANDRO FORNARI     ┆ 1              │\n",
      "└─────────────────────┴────────────────┘\n"
     ]
    }
   ],
   "source": [
    "coach_victory = (\n",
    "    df.filter(pl.col('RESULTADO') == 'V')  # Filtra apenas vitórias\n",
    "    .group_by('TÉCNICO')  # Agrupa por técnico\n",
    "    .agg(pl.len().alias(\"total_vitorias\")).sort(\"total_vitorias\", descending=True)  # Conta quantas vitórias cada técnico tem\n",
    "  \n",
    ")\n",
    "\n",
    "print(coach_victory)"
   ]
  },
  {
   "cell_type": "markdown",
   "metadata": {},
   "source": [
    "- Árbitro que mais apitaram em derrotas do Corinthians"
   ]
  },
  {
   "cell_type": "code",
   "execution_count": 74,
   "metadata": {},
   "outputs": [
    {
     "name": "stdout",
     "output_type": "stream",
     "text": [
      "TOP 3 árbitros que mais apitaram em jogos que o Corinthians PERDEU: \n",
      " \n",
      "shape: (3, 2)\n",
      "┌───────────────────────────┬──────────┐\n",
      "│ ÁRBITRO                   ┆ Derrotas │\n",
      "│ ---                       ┆ ---      │\n",
      "│ str                       ┆ u32      │\n",
      "╞═══════════════════════════╪══════════╡\n",
      "│ LEANDRO PEDRO VUADEN      ┆ 4        │\n",
      "│ RODRIGO D'ALONSO FERREIRA ┆ 3        │\n",
      "│ BRUNO ARLEU DE ARAÚJO     ┆ 2        │\n",
      "└───────────────────────────┴──────────┘\n"
     ]
    }
   ],
   "source": [
    "judge = (df.filter(pl.col(\"RESULTADO\") == \"D\")\n",
    "         .group_by(\"ÁRBITRO\")\n",
    "         .agg(pl.len().alias(\"Derrotas\"))\n",
    "         ).sort(\"Derrotas\", descending=True)\n",
    "\n",
    "\n",
    "print(f\"TOP 3 árbitros que mais apitaram em jogos que o Corinthians PERDEU: \\n \\n{judge[:3]}\")"
   ]
  }
 ],
 "metadata": {
  "kernelspec": {
   "display_name": "Python 3",
   "language": "python",
   "name": "python3"
  },
  "language_info": {
   "codemirror_mode": {
    "name": "ipython",
    "version": 3
   },
   "file_extension": ".py",
   "mimetype": "text/x-python",
   "name": "python",
   "nbconvert_exporter": "python",
   "pygments_lexer": "ipython3",
   "version": "3.9.13"
  }
 },
 "nbformat": 4,
 "nbformat_minor": 2
}
